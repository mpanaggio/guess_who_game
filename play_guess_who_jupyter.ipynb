{
 "cells": [
  {
   "cell_type": "markdown",
   "metadata": {},
   "source": [
    "# Overview\n",
    "In this notebook, we experiment with our guess who game."
   ]
  },
  {
   "cell_type": "markdown",
   "metadata": {},
   "source": [
    "### Import packages"
   ]
  },
  {
   "cell_type": "code",
   "execution_count": 5,
   "metadata": {},
   "outputs": [],
   "source": [
    "import numpy as np\n",
    "import guess_who_game as gw"
   ]
  },
  {
   "cell_type": "markdown",
   "metadata": {},
   "source": [
    "### Create sample strategy\n",
    "Below we create a matrix that describes a strategy for playing the game.  The entries in the 24 by 24 matrix indicate how many candidates you will try to eliminate with your next question.  `B[i-1,j-1]` corresponds to the number of yes answers to the question selected when you have $i$ candidates remaining and your opponent has $j$ candidates remaiing. \n",
    "\n",
    "In this example, the player tries to eliminate half of their remaining candidates (binary search).  Note: This should be analogous to `fixed_p` with `p=0.5`."
   ]
  },
  {
   "cell_type": "code",
   "execution_count": 6,
   "metadata": {},
   "outputs": [
    {
     "name": "stdout",
     "output_type": "stream",
     "text": [
      "[[ 1.  1.  1.  1.  1.  1.  1.  1.  1.  1.  1.  1.  1.  1.  1.  1.  1.  1.\n",
      "   1.  1.  1.  1.  1.  1.]\n",
      " [ 1.  1.  1.  1.  1.  1.  1.  1.  1.  1.  1.  1.  1.  1.  1.  1.  1.  1.\n",
      "   1.  1.  1.  1.  1.  1.]\n",
      " [ 1.  1.  1.  1.  1.  1.  1.  1.  1.  1.  1.  1.  1.  1.  1.  1.  1.  1.\n",
      "   1.  1.  1.  1.  1.  1.]\n",
      " [ 2.  2.  2.  2.  2.  2.  2.  2.  2.  2.  2.  2.  2.  2.  2.  2.  2.  2.\n",
      "   2.  2.  2.  2.  2.  2.]\n",
      " [ 2.  2.  2.  2.  2.  2.  2.  2.  2.  2.  2.  2.  2.  2.  2.  2.  2.  2.\n",
      "   2.  2.  2.  2.  2.  2.]\n",
      " [ 3.  3.  3.  3.  3.  3.  3.  3.  3.  3.  3.  3.  3.  3.  3.  3.  3.  3.\n",
      "   3.  3.  3.  3.  3.  3.]\n",
      " [ 3.  3.  3.  3.  3.  3.  3.  3.  3.  3.  3.  3.  3.  3.  3.  3.  3.  3.\n",
      "   3.  3.  3.  3.  3.  3.]\n",
      " [ 4.  4.  4.  4.  4.  4.  4.  4.  4.  4.  4.  4.  4.  4.  4.  4.  4.  4.\n",
      "   4.  4.  4.  4.  4.  4.]\n",
      " [ 4.  4.  4.  4.  4.  4.  4.  4.  4.  4.  4.  4.  4.  4.  4.  4.  4.  4.\n",
      "   4.  4.  4.  4.  4.  4.]\n",
      " [ 5.  5.  5.  5.  5.  5.  5.  5.  5.  5.  5.  5.  5.  5.  5.  5.  5.  5.\n",
      "   5.  5.  5.  5.  5.  5.]\n",
      " [ 5.  5.  5.  5.  5.  5.  5.  5.  5.  5.  5.  5.  5.  5.  5.  5.  5.  5.\n",
      "   5.  5.  5.  5.  5.  5.]\n",
      " [ 6.  6.  6.  6.  6.  6.  6.  6.  6.  6.  6.  6.  6.  6.  6.  6.  6.  6.\n",
      "   6.  6.  6.  6.  6.  6.]\n",
      " [ 6.  6.  6.  6.  6.  6.  6.  6.  6.  6.  6.  6.  6.  6.  6.  6.  6.  6.\n",
      "   6.  6.  6.  6.  6.  6.]\n",
      " [ 7.  7.  7.  7.  7.  7.  7.  7.  7.  7.  7.  7.  7.  7.  7.  7.  7.  7.\n",
      "   7.  7.  7.  7.  7.  7.]\n",
      " [ 7.  7.  7.  7.  7.  7.  7.  7.  7.  7.  7.  7.  7.  7.  7.  7.  7.  7.\n",
      "   7.  7.  7.  7.  7.  7.]\n",
      " [ 8.  8.  8.  8.  8.  8.  8.  8.  8.  8.  8.  8.  8.  8.  8.  8.  8.  8.\n",
      "   8.  8.  8.  8.  8.  8.]\n",
      " [ 8.  8.  8.  8.  8.  8.  8.  8.  8.  8.  8.  8.  8.  8.  8.  8.  8.  8.\n",
      "   8.  8.  8.  8.  8.  8.]\n",
      " [ 9.  9.  9.  9.  9.  9.  9.  9.  9.  9.  9.  9.  9.  9.  9.  9.  9.  9.\n",
      "   9.  9.  9.  9.  9.  9.]\n",
      " [ 9.  9.  9.  9.  9.  9.  9.  9.  9.  9.  9.  9.  9.  9.  9.  9.  9.  9.\n",
      "   9.  9.  9.  9.  9.  9.]\n",
      " [10. 10. 10. 10. 10. 10. 10. 10. 10. 10. 10. 10. 10. 10. 10. 10. 10. 10.\n",
      "  10. 10. 10. 10. 10. 10.]\n",
      " [10. 10. 10. 10. 10. 10. 10. 10. 10. 10. 10. 10. 10. 10. 10. 10. 10. 10.\n",
      "  10. 10. 10. 10. 10. 10.]\n",
      " [11. 11. 11. 11. 11. 11. 11. 11. 11. 11. 11. 11. 11. 11. 11. 11. 11. 11.\n",
      "  11. 11. 11. 11. 11. 11.]\n",
      " [11. 11. 11. 11. 11. 11. 11. 11. 11. 11. 11. 11. 11. 11. 11. 11. 11. 11.\n",
      "  11. 11. 11. 11. 11. 11.]\n",
      " [12. 12. 12. 12. 12. 12. 12. 12. 12. 12. 12. 12. 12. 12. 12. 12. 12. 12.\n",
      "  12. 12. 12. 12. 12. 12.]]\n"
     ]
    }
   ],
   "source": [
    "bmat=np.zeros((24,24))\n",
    "for my_rem in range(1,25):\n",
    "    for their_rem in range(1,25):\n",
    "        bmat[my_rem-1,their_rem-1]=max(int(np.floor(my_rem/2)),1)\n",
    "print(bmat)"
   ]
  },
  {
   "cell_type": "markdown",
   "metadata": {},
   "source": [
    "### Select strategies\n",
    "Now we select the strategies we would like players 1 and 2 to use in our simulated game.  "
   ]
  },
  {
   "cell_type": "code",
   "execution_count": 7,
   "metadata": {},
   "outputs": [],
   "source": [
    "#strategy1={'type':'fixed_p','p':0.5}\n",
    "strategy1={'type':'matrix','bmat':bmat}\n",
    "#strategy1={'type':'random','b':3}\n",
    "strategy2={'type':'fixed_b','b':5}"
   ]
  },
  {
   "cell_type": "markdown",
   "metadata": {},
   "source": [
    "### Simulate game\n",
    "To simulate a game we simply need to specify a strategy for each of the two players.  If desired, we can add the optimal argument `return_b=True` to return tuples with the state of the game at each turn and the number of yes answers for the question asked."
   ]
  },
  {
   "cell_type": "code",
   "execution_count": 8,
   "metadata": {},
   "outputs": [
    {
     "name": "stdout",
     "output_type": "stream",
     "text": [
      "Initial state: rem1: 24 rem2: 24 turn: 1\n",
      "new state: rem1: 12 rem2: 24 turn: 2\n",
      "new state: rem1: 12 rem2: 19 turn: 1\n",
      "new state: rem1: 6 rem2: 19 turn: 2\n",
      "new state: rem1: 6 rem2: 14 turn: 1\n",
      "new state: rem1: 3 rem2: 14 turn: 2\n",
      "new state: rem1: 3 rem2: 9 turn: 1\n",
      "new state: rem1: 2 rem2: 9 turn: 2\n",
      "new state: rem1: 2 rem2: 4 turn: 1\n",
      "new state: rem1: 1 rem2: 4 turn: 2\n",
      "Winner: 1\n",
      "Player 1 guesses: [(24, 24, 12), (12, 19, 6), (6, 14, 3), (3, 9, 1), (2, 4, 1)]\n",
      "Player 2 guesses: [(24, 12, 5), (19, 6, 5), (14, 3, 5), (9, 2, 5)]\n"
     ]
    }
   ],
   "source": [
    "winner,b1,b2=gw.play_game(strategy1,strategy2,return_b=True)\n",
    "print(\"Winner:\", winner)\n",
    "print(\"Player 1 guesses:\",b1)\n",
    "print(\"Player 2 guesses:\",b2)"
   ]
  },
  {
   "cell_type": "code",
   "execution_count": null,
   "metadata": {},
   "outputs": [],
   "source": []
  },
  {
   "cell_type": "code",
   "execution_count": null,
   "metadata": {},
   "outputs": [],
   "source": []
  },
  {
   "cell_type": "code",
   "execution_count": null,
   "metadata": {},
   "outputs": [],
   "source": []
  }
 ],
 "metadata": {
  "kernelspec": {
   "display_name": "Python 3",
   "language": "python",
   "name": "python3"
  },
  "language_info": {
   "codemirror_mode": {
    "name": "ipython",
    "version": 3
   },
   "file_extension": ".py",
   "mimetype": "text/x-python",
   "name": "python",
   "nbconvert_exporter": "python",
   "pygments_lexer": "ipython3",
   "version": "3.6.4"
  }
 },
 "nbformat": 4,
 "nbformat_minor": 2
}
